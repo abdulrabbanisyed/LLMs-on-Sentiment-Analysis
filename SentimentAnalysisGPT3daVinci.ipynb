{
 "cells": [
  {
   "cell_type": "markdown",
   "id": "eb665746",
   "metadata": {},
   "source": [
    "### GPT 3 - daVinci 003"
   ]
  },
  {
   "cell_type": "markdown",
   "id": "0a975649",
   "metadata": {},
   "source": [
    "### Import necessary libraries and modules to work"
   ]
  },
  {
   "cell_type": "code",
   "execution_count": 1,
   "id": "83f501b2",
   "metadata": {},
   "outputs": [],
   "source": [
    "# import necessary libraries\n",
    "import requests\n",
    "import pandas as pd\n",
    "from sklearn.metrics import accuracy_score, precision_score, f1_score\n",
    "import matplotlib.pyplot as plt\n",
    "from sklearn.metrics import classification_report"
   ]
  },
  {
   "cell_type": "markdown",
   "id": "d8e4ffc8",
   "metadata": {},
   "source": [
    "#### Load the data and set your OpenAI API key"
   ]
  },
  {
   "cell_type": "code",
   "execution_count": 2,
   "id": "d326a823",
   "metadata": {},
   "outputs": [],
   "source": [
    "# Set your OpenAI API key\n",
    "api_key = 'your-openai-api-key'\n",
    "\n",
    "# Load your csv data\n",
    "csv_path = r'location-of-file'\n",
    "df = pd.read_csv(csv_path)"
   ]
  },
  {
   "cell_type": "code",
   "execution_count": 29,
   "id": "a8f28a9c",
   "metadata": {},
   "outputs": [
    {
     "data": {
      "text/html": [
       "<div>\n",
       "<style scoped>\n",
       "    .dataframe tbody tr th:only-of-type {\n",
       "        vertical-align: middle;\n",
       "    }\n",
       "\n",
       "    .dataframe tbody tr th {\n",
       "        vertical-align: top;\n",
       "    }\n",
       "\n",
       "    .dataframe thead th {\n",
       "        text-align: right;\n",
       "    }\n",
       "</style>\n",
       "<table border=\"1\" class=\"dataframe\">\n",
       "  <thead>\n",
       "    <tr style=\"text-align: right;\">\n",
       "      <th></th>\n",
       "      <th>textID</th>\n",
       "      <th>text</th>\n",
       "      <th>selected_text</th>\n",
       "      <th>sentiment</th>\n",
       "    </tr>\n",
       "  </thead>\n",
       "  <tbody>\n",
       "    <tr>\n",
       "      <th>0</th>\n",
       "      <td>cb774db0d1</td>\n",
       "      <td>I`d have responded, if I were going</td>\n",
       "      <td>I`d have responded, if I were going</td>\n",
       "      <td>neutral</td>\n",
       "    </tr>\n",
       "    <tr>\n",
       "      <th>1</th>\n",
       "      <td>549e992a42</td>\n",
       "      <td>Sooo SAD I will miss you here in San Diego!!!</td>\n",
       "      <td>Sooo SAD</td>\n",
       "      <td>negative</td>\n",
       "    </tr>\n",
       "    <tr>\n",
       "      <th>2</th>\n",
       "      <td>088c60f138</td>\n",
       "      <td>my boss is bullying me...</td>\n",
       "      <td>bullying me</td>\n",
       "      <td>negative</td>\n",
       "    </tr>\n",
       "    <tr>\n",
       "      <th>3</th>\n",
       "      <td>9642c003ef</td>\n",
       "      <td>what interview! leave me alone</td>\n",
       "      <td>leave me alone</td>\n",
       "      <td>negative</td>\n",
       "    </tr>\n",
       "    <tr>\n",
       "      <th>4</th>\n",
       "      <td>358bd9e861</td>\n",
       "      <td>Sons of ****, why couldn`t they put them on t...</td>\n",
       "      <td>Sons of ****,</td>\n",
       "      <td>negative</td>\n",
       "    </tr>\n",
       "    <tr>\n",
       "      <th>5</th>\n",
       "      <td>28b57f3990</td>\n",
       "      <td>http://www.dothebouncy.com/smf - some shameles...</td>\n",
       "      <td>http://www.dothebouncy.com/smf - some shameles...</td>\n",
       "      <td>neutral</td>\n",
       "    </tr>\n",
       "    <tr>\n",
       "      <th>6</th>\n",
       "      <td>6e0c6d75b1</td>\n",
       "      <td>2am feedings for the baby are fun when he is a...</td>\n",
       "      <td>fun</td>\n",
       "      <td>positive</td>\n",
       "    </tr>\n",
       "    <tr>\n",
       "      <th>7</th>\n",
       "      <td>50e14c0bb8</td>\n",
       "      <td>Soooo high</td>\n",
       "      <td>Soooo high</td>\n",
       "      <td>neutral</td>\n",
       "    </tr>\n",
       "    <tr>\n",
       "      <th>8</th>\n",
       "      <td>e050245fbd</td>\n",
       "      <td>Both of you</td>\n",
       "      <td>Both of you</td>\n",
       "      <td>neutral</td>\n",
       "    </tr>\n",
       "    <tr>\n",
       "      <th>9</th>\n",
       "      <td>fc2cbefa9d</td>\n",
       "      <td>Journey!? Wow... u just became cooler.  hehe....</td>\n",
       "      <td>Wow... u just became cooler.</td>\n",
       "      <td>positive</td>\n",
       "    </tr>\n",
       "  </tbody>\n",
       "</table>\n",
       "</div>"
      ],
      "text/plain": [
       "       textID                                               text  \\\n",
       "0  cb774db0d1                I`d have responded, if I were going   \n",
       "1  549e992a42      Sooo SAD I will miss you here in San Diego!!!   \n",
       "2  088c60f138                          my boss is bullying me...   \n",
       "3  9642c003ef                     what interview! leave me alone   \n",
       "4  358bd9e861   Sons of ****, why couldn`t they put them on t...   \n",
       "5  28b57f3990  http://www.dothebouncy.com/smf - some shameles...   \n",
       "6  6e0c6d75b1  2am feedings for the baby are fun when he is a...   \n",
       "7  50e14c0bb8                                         Soooo high   \n",
       "8  e050245fbd                                        Both of you   \n",
       "9  fc2cbefa9d   Journey!? Wow... u just became cooler.  hehe....   \n",
       "\n",
       "                                       selected_text sentiment  \n",
       "0                I`d have responded, if I were going   neutral  \n",
       "1                                           Sooo SAD  negative  \n",
       "2                                        bullying me  negative  \n",
       "3                                     leave me alone  negative  \n",
       "4                                      Sons of ****,  negative  \n",
       "5  http://www.dothebouncy.com/smf - some shameles...   neutral  \n",
       "6                                                fun  positive  \n",
       "7                                         Soooo high   neutral  \n",
       "8                                        Both of you   neutral  \n",
       "9                       Wow... u just became cooler.  positive  "
      ]
     },
     "execution_count": 29,
     "metadata": {},
     "output_type": "execute_result"
    }
   ],
   "source": [
    "df= df.head(200)\n",
    "df.head(10)"
   ]
  },
  {
   "cell_type": "markdown",
   "id": "5f252d1d",
   "metadata": {},
   "source": [
    "#### Define your prompt and generate prediction for single data for testing"
   ]
  },
  {
   "cell_type": "code",
   "execution_count": 13,
   "id": "90bb8c89",
   "metadata": {},
   "outputs": [
    {
     "data": {
      "text/plain": [
       "'Positive'"
      ]
     },
     "execution_count": 13,
     "metadata": {},
     "output_type": "execute_result"
    }
   ],
   "source": [
    "# Define the prompt for sentiment prediction\n",
    "prompt = \"Given the text, predict the sentiment as either positive, negative or neutral:\"\n",
    "\n",
    "# generate pridiction for single data\n",
    "text = df['text'][9]\n",
    "\n",
    "test_payload = {\n",
    "        \"model\": \"text-davinci-003\",\n",
    "        \"prompt\": f\"{prompt} {text}\",\n",
    "        \"max_tokens\": 100\n",
    "    }\n",
    "\n",
    "test_url = \"https://api.openai.com/v1/completions\"\n",
    "test_headers = {\n",
    "        \"Content-Type\": \"application/json\",\n",
    "        \"Authorization\": f\"Bearer {api_key}\"\n",
    "    }\n",
    "\n",
    "test_response = requests.post(test_url, json=test_payload, headers=test_headers)\n",
    "test_data = test_response.json()\n",
    "predictions = test_data['choices'][0]['text'].strip()\n",
    "predictions"
   ]
  },
  {
   "cell_type": "markdown",
   "id": "0badaf8a",
   "metadata": {},
   "source": [
    "#### Define the prompt and generate predeiction for the whole dataset"
   ]
  },
  {
   "cell_type": "code",
   "execution_count": 15,
   "id": "0ae1bf40",
   "metadata": {},
   "outputs": [],
   "source": [
    "# Define the prompt for sentiment prediction\n",
    "prompt = \"Given the text, predict the sentiment as either positive, negative or neutral:\"\n",
    "\n",
    "# Generate predictions for the entire dataset\n",
    "predictions = []\n",
    "\n",
    "for text in df['text']:\n",
    "    test_payload = {\n",
    "        \"model\": \"text-davinci-003\",\n",
    "        \"prompt\": f\"{prompt} {text}\",\n",
    "        \"max_tokens\": 100\n",
    "    }\n",
    "\n",
    "    test_url = \"https://api.openai.com/v1/completions\"\n",
    "    test_headers = {\n",
    "        \"Content-Type\": \"application/json\",\n",
    "        \"Authorization\": f\"Bearer {api_key}\"\n",
    "    }\n",
    "\n",
    "    test_response = requests.post(test_url, json=test_payload, headers=test_headers)\n",
    "    test_data = test_response.json()\n",
    "    predictions.append(test_data['choices'][0]['text'].strip())\n",
    "    "
   ]
  },
  {
   "cell_type": "markdown",
   "id": "b316f314",
   "metadata": {},
   "source": [
    "#### format the predictions to compare the with actual values"
   ]
  },
  {
   "cell_type": "code",
   "execution_count": 23,
   "id": "24e47082",
   "metadata": {},
   "outputs": [],
   "source": [
    "lowered_predictions = []\n",
    "for word in predictions:\n",
    "    new_word = word.lower()\n",
    "    if new_word != 'positive' and new_word != 'negative':\n",
    "        new_word = 'neutral'\n",
    "    lowered_predictions.append(new_word)"
   ]
  },
  {
   "cell_type": "markdown",
   "id": "5430da98",
   "metadata": {},
   "source": [
    "#### Evaluate the model and print the evaluation metricses"
   ]
  },
  {
   "cell_type": "code",
   "execution_count": 24,
   "id": "f67ac4a8",
   "metadata": {},
   "outputs": [
    {
     "name": "stdout",
     "output_type": "stream",
     "text": [
      "Accuracy: 0.57\n",
      "Precision: 0.63\n",
      "F1 Score: 0.56\n"
     ]
    }
   ],
   "source": [
    "# Evaluate the model\n",
    "actual_labels = df['sentiment']\n",
    "accuracy = accuracy_score(actual_labels, lowered_predictions)\n",
    "precision = precision_score(actual_labels, lowered_predictions, average='weighted')\n",
    "f1 = f1_score(actual_labels, lowered_predictions, average='weighted')\n",
    "\n",
    "# Print the evaluation metrics\n",
    "print(f\"Accuracy: {accuracy:.2f}\")\n",
    "print(f\"Precision: {precision:.2f}\")\n",
    "print(f\"F1 Score: {f1:.2f}\")\n"
   ]
  },
  {
   "cell_type": "markdown",
   "id": "928c6a60",
   "metadata": {},
   "source": [
    "#### Display performance metrices using bar graph"
   ]
  },
  {
   "cell_type": "code",
   "execution_count": 31,
   "id": "8fc02cfc",
   "metadata": {},
   "outputs": [
    {
     "data": {
      "image/png": "[encoded data removed]",
      "text/plain": [
       "<Figure size 640x480 with 1 Axes>"
      ]
     },
     "metadata": {},
     "output_type": "display_data"
    }
   ],
   "source": [
    "# Labels for the bars\n",
    "labels = ['Accuracy', 'Precision', 'F1 Score']\n",
    "\n",
    "# Values for the bars\n",
    "values = [accuracy, precision, f1]\n",
    "\n",
    "# Bar colors\n",
    "colors = ['green', 'blue', 'orange']\n",
    "\n",
    "# Create a bar graph\n",
    "plt.bar(labels, values, color=colors)\n",
    "\n",
    "# Adding title and labels\n",
    "plt.title('Performance Metrics for GPT Model')\n",
    "plt.xlabel('Metrics')\n",
    "plt.ylabel('Score')\n",
    "\n",
    "# Display the bar graph\n",
    "plt.show()\n"
   ]
  },
  {
   "cell_type": "markdown",
   "id": "e16c147c",
   "metadata": {},
   "source": [
    "#### Print classification report"
   ]
  },
  {
   "cell_type": "code",
   "execution_count": 25,
   "id": "a8810528",
   "metadata": {},
   "outputs": [
    {
     "name": "stdout",
     "output_type": "stream",
     "text": [
      "Classification Report for Validation Set:\n",
      "              precision    recall  f1-score   support\n",
      "\n",
      "    negative       0.76      0.34      0.47        64\n",
      "     neutral       0.49      0.79      0.61        82\n",
      "    positive       0.69      0.50      0.58        54\n",
      "\n",
      "    accuracy                           0.57       200\n",
      "   macro avg       0.65      0.55      0.55       200\n",
      "weighted avg       0.63      0.57      0.56       200\n",
      "\n"
     ]
    }
   ],
   "source": [
    "print(\"Classification Report for Validation Set:\")\n",
    "print(classification_report(actual_labels, lowered_predictions))\n",
    "#ConfusionMatrixDisplay.from_estimator(text_clf, X_val, actual_labels).plot()"
   ]
  },
  {
   "cell_type": "code",
   "execution_count": null,
   "id": "af268bf4",
   "metadata": {},
   "outputs": [],
   "source": []
  }
 ],
 "metadata": {
  "kernelspec": {
   "display_name": "Python 3 (ipykernel)",
   "language": "python",
   "name": "python3"
  },
  "language_info": {
   "codemirror_mode": {
    "name": "ipython",
    "version": 3
   },
   "file_extension": ".py",
   "mimetype": "text/x-python",
   "name": "python",
   "nbconvert_exporter": "python",
   "pygments_lexer": "ipython3",
   "version": "3.11.1"
  }
 },
 "nbformat": 4,
 "nbformat_minor": 5
}
